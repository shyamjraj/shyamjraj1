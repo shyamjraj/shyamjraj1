{
 "cells": [
  {
   "cell_type": "code",
   "execution_count": 1,
   "id": "c2d4102b-3788-4b2e-aa7b-0859ae520670",
   "metadata": {},
   "outputs": [
    {
     "name": "stdin",
     "output_type": "stream",
     "text": [
      "Area Type (e.g., Super built-up Area):  posh\n",
      "Availability (e.g., Ready To Move):  dec-12\n",
      "Location (e.g., Electronic City Phase II):  sarjapura\n",
      "Size (e.g., 2 BHK):  3 BHK\n",
      "Society:  \n",
      "Total Square Feet:  2300\n",
      "Number of Bathrooms:  2\n",
      "Number of Balconies:  1\n"
     ]
    },
    {
     "name": "stdout",
     "output_type": "stream",
     "text": [
      "Predicted Price: 140.99\n"
     ]
    }
   ],
   "source": [
    "import pandas as pd\n",
    "from sklearn.model_selection import train_test_split\n",
    "from sklearn.ensemble import RandomForestRegressor\n",
    "from sklearn.preprocessing import OneHotEncoder\n",
    "from sklearn.compose import ColumnTransformer\n",
    "from sklearn.pipeline import Pipeline\n",
    "\n",
    "# Load and prepare the data\n",
    "data = pd.read_csv('House_Data.csv')\n",
    "\n",
    "# Convert numeric columns to float, replacing non-numeric values with NaN\n",
    "numeric_columns = ['total_sqft', 'bath', 'balcony', 'price']\n",
    "for col in numeric_columns:\n",
    "    data[col] = pd.to_numeric(data[col], errors='coerce')\n",
    "\n",
    "# Remove rows with NaN values\n",
    "data = data.dropna()\n",
    "\n",
    "# Separate features and target\n",
    "X = data.drop('price', axis=1)\n",
    "y = data['price']\n",
    "\n",
    "# Split the data\n",
    "X_train, X_test, y_train, y_test = train_test_split(X, y, test_size=0.2, random_state=42)\n",
    "\n",
    "# Define the preprocessing for the numeric and categorical features\n",
    "numeric_features = ['total_sqft', 'bath', 'balcony']\n",
    "categorical_features = X.select_dtypes(include=['object']).columns.tolist()\n",
    "\n",
    "preprocessor = ColumnTransformer(\n",
    "    transformers=[\n",
    "        ('num', 'passthrough', numeric_features),\n",
    "        ('cat', OneHotEncoder(handle_unknown='ignore'), categorical_features)\n",
    "    ])\n",
    "\n",
    "\n",
    "# Define the model pipeline\n",
    "model = Pipeline(steps=[\n",
    "    ('preprocessor', preprocessor),\n",
    "    ('regressor', RandomForestRegressor(n_estimators=100, random_state=42))\n",
    "])\n",
    "\n",
    "# Fit the model\n",
    "model.fit(X_train, y_train)\n",
    "\n",
    "\n",
    "# Function to get user input and predict price for a new house\n",
    "def get_user_input():\n",
    "    area_type = input(\"Area Type (e.g., Super built-up Area): \")\n",
    "    availability = input(\"Availability (e.g., Ready To Move): \")\n",
    "    location = input(\"Location (e.g., Electronic City Phase II): \")\n",
    "    size = input(\"Size (e.g., 2 BHK): \")\n",
    "    society = input(\"Society: \")\n",
    "    total_sqft = float(input(\"Total Square Feet: \"))\n",
    "    bath = float(input(\"Number of Bathrooms: \"))\n",
    "    balcony = float(input(\"Number of Balconies: \"))\n",
    "    \n",
    "    # Create a DataFrame from user input\n",
    "    user_input = pd.DataFrame({\n",
    "        'area_type': [area_type],\n",
    "        'availability': [availability],\n",
    "        'location': [location],\n",
    "        'size': [size],\n",
    "        'society': [society],\n",
    "        'total_sqft': [total_sqft],\n",
    "        'bath': [bath],\n",
    "        'balcony': [balcony]\n",
    "    })\n",
    "    \n",
    "    return user_input\n",
    "\n",
    "# Get user input for a new house and predict the price\n",
    "new_house = get_user_input()\n",
    "predicted_price = model.predict(new_house)\n",
    "print(f\"Predicted Price: {predicted_price[0]:.2f}\")"
   ]
  },
  {
   "cell_type": "code",
   "execution_count": null,
   "id": "b580b2f3-97da-4294-969d-15d5f8c870e3",
   "metadata": {},
   "outputs": [],
   "source": []
  }
 ],
 "metadata": {
  "kernelspec": {
   "display_name": "Python 3 (ipykernel)",
   "language": "python",
   "name": "python3"
  },
  "language_info": {
   "codemirror_mode": {
    "name": "ipython",
    "version": 3
   },
   "file_extension": ".py",
   "mimetype": "text/x-python",
   "name": "python",
   "nbconvert_exporter": "python",
   "pygments_lexer": "ipython3",
   "version": "3.12.4"
  }
 },
 "nbformat": 4,
 "nbformat_minor": 5
}
